{
 "cells": [
  {
   "cell_type": "code",
   "execution_count": 8,
   "id": "aeb015ba",
   "metadata": {},
   "outputs": [],
   "source": [
    "import numpy as np\n",
    "import cv2\n",
    "import matplotlib.pyplot as plt\n",
    "from math import sqrt\n",
    "from helper_functions import *\n",
    "import sys"
   ]
  },
  {
   "cell_type": "code",
   "execution_count": 14,
   "id": "d7a57572",
   "metadata": {},
   "outputs": [
    {
     "name": "stdout",
     "output_type": "stream",
     "text": [
      "loading Roboflow workspace...\n",
      "loading Roboflow project...\n",
      "{'predictions': [{'x': 292.0, 'y': 338.0, 'width': 160.0, 'height': 224.0, 'confidence': 0.9251434803009033, 'class': 'Robot1', 'image_path': 'Img1.jpg', 'prediction_type': 'ObjectDetectionModel'}, {'x': 246.0, 'y': 111.0, 'width': 48.0, 'height': 60.0, 'confidence': 0.8548178672790527, 'class': 'Ball', 'image_path': 'Img1.jpg', 'prediction_type': 'ObjectDetectionModel'}], 'image': {'width': '1920', 'height': '1080'}}\n"
     ]
    }
   ],
   "source": [
    "from roboflow import Roboflow\n",
    "rf = Roboflow(api_key=\"KjZTwR7hgholtrMpOVEv\")\n",
    "project = rf.workspace().project(\"robo-z0cr9\")\n",
    "model = project.version(1).model\n",
    "# infer on a local image\n",
    "print(model.predict(\"Img1.jpg\", confidence=40, overlap=30).json())\n",
    "\n",
    "# visualize your prediction\n",
    "model.predict(\"Img1.jpg\", confidence=40, overlap=30).save(\"Prediction.jpg\")\n",
    "\n",
    "# infer on an image hosted elsewhere\n",
    "# print(model.predict(\"URL_OF_YOUR_IMAGE\", hosted=True, confidence=40, overlap=30).json())"
   ]
  },
  {
   "cell_type": "code",
   "execution_count": 19,
   "id": "fc921c0a",
   "metadata": {},
   "outputs": [
    {
     "name": "stdout",
     "output_type": "stream",
     "text": [
      "loading Roboflow workspace...\n",
      "loading Roboflow project...\n",
      "{'predictions': [{'x': 463.5, 'y': 540.5, 'width': 331.0, 'height': 411.0, 'confidence': 0.8977434039115906, 'class': 'Team_Red', 'image_path': 'Img1.jpg', 'prediction_type': 'ObjectDetectionModel'}, {'x': 387.0, 'y': 111.0, 'width': 84.0, 'height': 72.0, 'confidence': 0.8471137285232544, 'class': 'Ball', 'image_path': 'Img1.jpg', 'prediction_type': 'ObjectDetectionModel'}], 'image': {'width': '1920', 'height': '1080'}}\n"
     ]
    }
   ],
   "source": [
    "from roboflow import Roboflow\n",
    "rf = Roboflow(api_key=\"KjZTwR7hgholtrMpOVEv\")\n",
    "project = rf.workspace().project(\"robo-different-team-with-corner\")\n",
    "model = project.version(2).model\n",
    "print(model.predict(\"Img1.jpg\", confidence=40, overlap=30).json())\n",
    "model.predict(\"Img1.jpg\", confidence=40, overlap=30).save(\"predictionnew.jpg\")\n",
    "# print(model.predict(\"URL_OF_YOUR_IMAGE\", hosted=True, confidence=40, overlap=30).json())"
   ]
  },
  {
   "cell_type": "code",
   "execution_count": 1,
   "id": "c0b3b161",
   "metadata": {},
   "outputs": [
    {
     "name": "stdout",
     "output_type": "stream",
     "text": [
      "loading Roboflow workspace...\n",
      "loading Roboflow project...\n"
     ]
    }
   ],
   "source": [
    "import cv2\n",
    "from roboflow import Roboflow\n",
    "\n",
    "# Initialize the Roboflow API client\n",
    "rf = Roboflow(api_key=\"KjZTwR7hgholtrMpOVEv\")\n",
    "\n",
    "# Get the Roboflow project and model\n",
    "project = rf.workspace().project(\"robo-z0cr9\")\n",
    "model = project.version(1).model\n",
    "\n",
    "\n",
    "# Open the video file for reading\n",
    "video = cv2.VideoCapture(\"Video-2v2.mp4\")\n",
    "cap = cv2.VideoCapture(\"Video-2v2.mp4\")\n",
    "# Get the video frame rate and dimensions\n",
    "fps = int(video.get(cv2.CAP_PROP_FPS))\n",
    "width = int(video.get(cv2.CAP_PROP_FRAME_WIDTH))\n",
    "height = int(video.get(cv2.CAP_PROP_FRAME_HEIGHT))\n",
    "\n",
    "# Create a VideoWriter object for writing the output video\n",
    "fourcc = cv2.VideoWriter_fourcc(*\"mp4v\")\n",
    "out = cv2.VideoWriter(\"output_video.mp4\", fourcc, fps, (width, height))\n",
    "\n",
    "while cap.isOpened():\n",
    "    # read the current frame\n",
    "    ret, frame = cap.read()\n",
    "    if not ret:\n",
    "        break\n",
    "\n",
    "    # predict on the current frame using the model\n",
    "    prediction = model.predict(frame, confidence=40, overlap=30).json()[\"predictions\"]\n",
    "\n",
    "    # Draw the predicted bounding boxes on the frame\n",
    "    for obj in prediction:\n",
    "        if \"bbox\" in obj:\n",
    "            x, y, w, h = obj[\"bbox\"]\n",
    "            label = obj[\"class\"]\n",
    "            cv2.rectangle(frame, (x, y), (x + w, y + h), (0, 255, 0), 2)\n",
    "            cv2.putText(frame, label, (x, y - 10), cv2.FONT_HERSHEY_SIMPLEX, 0.5, (0, 255, 0), 2)\n",
    "            cv2.imshow('frame', frame)\n",
    "            if cv2.waitKey(1) == ord('q'):\n",
    "                break\n",
    "\n",
    "# release the video capture object and close all windows\n",
    "cap.release()\n",
    "cv2.destroyAllWindows()"
   ]
  },
  {
   "cell_type": "code",
   "execution_count": null,
   "id": "2752d3de",
   "metadata": {},
   "outputs": [],
   "source": []
  },
  {
   "cell_type": "code",
   "execution_count": null,
   "id": "5263e090",
   "metadata": {},
   "outputs": [],
   "source": []
  }
 ],
 "metadata": {
  "kernelspec": {
   "display_name": "Python 3 (ipykernel)",
   "language": "python",
   "name": "python3"
  },
  "language_info": {
   "codemirror_mode": {
    "name": "ipython",
    "version": 3
   },
   "file_extension": ".py",
   "mimetype": "text/x-python",
   "name": "python",
   "nbconvert_exporter": "python",
   "pygments_lexer": "ipython3",
   "version": "3.9.13"
  }
 },
 "nbformat": 4,
 "nbformat_minor": 5
}
